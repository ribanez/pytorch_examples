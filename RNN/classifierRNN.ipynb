{
  "nbformat": 4,
  "nbformat_minor": 0,
  "metadata": {
    "colab": {
      "name": "Draft_TareaRNN_v0.ipynb",
      "version": "0.3.2",
      "views": {},
      "default_view": {},
      "provenance": [
        {
          "file_id": "1on6dygo0EjrX_b4emKeuQWOm8JhcYQvT",
          "timestamp": 1533493795938
        }
      ],
      "collapsed_sections": []
    },
    "kernelspec": {
      "name": "python3",
      "display_name": "Python 3"
    },
    "accelerator": "GPU"
  },
  "cells": [
    {
      "metadata": {
        "id": "13IsBj0AUG_0",
        "colab_type": "code",
        "colab": {
          "autoexec": {
            "startup": false,
            "wait_interval": 0
          }
        }
      },
      "cell_type": "code",
      "source": [
        "!pip3 install torch torchvision --upgrade\n",
        "!pip install git+https://github.com/google/sre_yield.git --upgrade"
      ],
      "execution_count": 0,
      "outputs": []
    },
    {
      "metadata": {
        "id": "1Gkyz7ku092Y",
        "colab_type": "code",
        "colab": {
          "autoexec": {
            "startup": false,
            "wait_interval": 0
          }
        }
      },
      "cell_type": "code",
      "source": [
        "import sre_yield\n",
        "import random\n",
        "\n",
        "\n",
        "class generate_data:\n",
        "  \n",
        "  def __init__(self, regular_expression):\n",
        "    \n",
        "    self.all_examples = list(sre_yield.AllStrings(regular_expression))\n",
        "    \n",
        "  def split_data(self, val_size, test_size=None):\n",
        "    random.shuffle(self.all_examples)\n",
        "    \n",
        "    if test_size == None:\n",
        "      val_size = val_size if val_size < 1 else val_size / 100.0\n",
        "      split_index = int(len(self.all_examples) * (1-val_size))\n",
        "\n",
        "      return self.all_examples[:split_index], self.all_examples[split_index:]\n",
        "    else:\n",
        "      val_size = val_size if val_size < 1 else val_size / 100.0\n",
        "      test_size = test_size if val_size < 1 else val_size / 100.0\n",
        "      split_index_val = int(len(self.all_examples) * (1 - val_size - test_size))\n",
        "      split_index_test = split_index_val + int(len(self.all_examples) * (1 - test_size))\n",
        "      \n",
        "      return self.all_examples[:split_index_val], \\\n",
        "             self.all_examples[split_index_val:split_index_test], \\\n",
        "             self.all_examples[split_index_test:]"
      ],
      "execution_count": 0,
      "outputs": []
    },
    {
      "metadata": {
        "id": "4dslYiS5Yrz-",
        "colab_type": "code",
        "colab": {
          "autoexec": {
            "startup": false,
            "wait_interval": 0
          }
        }
      },
      "cell_type": "code",
      "source": [
        "import torch\n",
        "\n",
        "class input_data:\n",
        "  \n",
        "  def __init__(self, all_examples, vocab):\n",
        "    self.all_examples = all_examples\n",
        "    self.all_examples.sort(key = lambda s: len(s), reverse=True)\n",
        "    self.max_len_example = len(self.all_examples[0])\n",
        "    \n",
        "    self.vocab = vocab  # Arreglo con el vocabulario\n",
        "    \n",
        "  def __len__(self):\n",
        "    return len(self.all_examples)\n",
        "  \n",
        "  def __getitem__(self, index):\n",
        "    sentence_str = self.all_examples[index]\n",
        "    \n",
        "    sentence_enc = torch.FloatTensor(torch.zeros((self.max_len_example, len(self.vocab)), dtype=torch.float)) # TODO: LO CAMBIE A FloatTensor en vez de LONG\n",
        "    \n",
        "    for idx, char in enumerate(sentence_str):\n",
        "                                      \n",
        "      if char not in self.vocab:\n",
        "        raise ValueError(\"EL VOCABULARIO NO CONTIENE {}\".format(char))\n",
        "\n",
        "      sentence_enc[idx, self.vocab.index(char)] = 1\n",
        "    \n",
        "    target = sentence_str.count(\"1\") # NUMERO DE UNOS QUE TIENE EL STRING\n",
        "    \n",
        "#    target = torch.LongTensor([target])\n",
        "#    target_enc = torch.LongTensor(torch.zeros((self.max_len_example + 1), dtype=torch.long))\n",
        "#    target_enc[target] = 1\n",
        "    \n",
        "    return sentence_enc, target\n"
      ],
      "execution_count": 0,
      "outputs": []
    },
    {
      "metadata": {
        "id": "GA7lwER4Y-Hf",
        "colab_type": "code",
        "colab": {
          "autoexec": {
            "startup": false,
            "wait_interval": 0
          },
          "base_uri": "https://localhost:8080/",
          "height": 255
        },
        "outputId": "fb6ec50e-3aaf-4732-a4ff-5376043bebd1",
        "executionInfo": {
          "status": "ok",
          "timestamp": 1533508319307,
          "user_tz": 240,
          "elapsed": 886,
          "user": {
            "displayName": "Roberto Ibañez",
            "photoUrl": "//lh4.googleusercontent.com/-ddIYrrtNbsk/AAAAAAAAAAI/AAAAAAAABrY/AWZd3obyJCA/s50-c-k-no/photo.jpg",
            "userId": "104879888659584525223"
          }
        }
      },
      "cell_type": "code",
      "source": [
        "## TESTING INPUT DATA\n",
        "regular_expression = \"[01]{3,10}\"\n",
        "vocab = [\"0\", \"1\"]\n",
        "\n",
        "data = generate_data(regular_expression=regular_expression)\n",
        "\n",
        "train_data, val_data = data.split_data(0.2)\n",
        "\n",
        "\n",
        "dtrain_set = input_data(train_data,\n",
        "                        vocab = vocab\n",
        "                        )\n",
        "\n",
        "print(\"NUMERO DE EJEMPLOS TRAIN = \", len(dtrain_set))\n",
        "\n",
        "print(\"PRIMER EJEMPLO TRAIN = \\n\", dtrain_set[0][0])\n",
        "\n",
        "print(\"PRIMER TARGET TRAIN (Cantidad de unos) = \", dtrain_set[0][1])\n",
        "\n",
        "dval_set = input_data(val_data,\n",
        "                      vocab = vocab\n",
        "                      )\n",
        "\n",
        "print(\"NUMERO DE EJEMPLOS VAL = \", len(dval_set))"
      ],
      "execution_count": 31,
      "outputs": [
        {
          "output_type": "stream",
          "text": [
            "NUMERO DE EJEMPLOS TRAIN =  1632\n",
            "PRIMER EJEMPLO TRAIN = \n",
            " tensor([[0., 1.],\n",
            "        [1., 0.],\n",
            "        [1., 0.],\n",
            "        [1., 0.],\n",
            "        [1., 0.],\n",
            "        [0., 1.],\n",
            "        [1., 0.],\n",
            "        [0., 1.],\n",
            "        [0., 1.],\n",
            "        [0., 1.]])\n",
            "PRIMER TARGET TRAIN (Cantidad de unos) =  5\n",
            "NUMERO DE EJEMPLOS VAL =  408\n"
          ],
          "name": "stdout"
        }
      ]
    },
    {
      "metadata": {
        "id": "H7hm5QL6a0r-",
        "colab_type": "code",
        "colab": {
          "autoexec": {
            "startup": false,
            "wait_interval": 0
          },
          "base_uri": "https://localhost:8080/",
          "height": 34
        },
        "outputId": "aad7bad2-7f4d-4ec6-b23c-1856a4a0c16a",
        "executionInfo": {
          "status": "ok",
          "timestamp": 1533508357582,
          "user_tz": 240,
          "elapsed": 1991,
          "user": {
            "displayName": "Roberto Ibañez",
            "photoUrl": "//lh4.googleusercontent.com/-ddIYrrtNbsk/AAAAAAAAAAI/AAAAAAAABrY/AWZd3obyJCA/s50-c-k-no/photo.jpg",
            "userId": "104879888659584525223"
          }
        }
      },
      "cell_type": "code",
      "source": [
        "dtrain_set[0][0].shape"
      ],
      "execution_count": 32,
      "outputs": [
        {
          "output_type": "execute_result",
          "data": {
            "text/plain": [
              "torch.Size([10, 2])"
            ]
          },
          "metadata": {
            "tags": []
          },
          "execution_count": 32
        }
      ]
    },
    {
      "metadata": {
        "id": "lXp7UR66034g",
        "colab_type": "code",
        "colab": {
          "autoexec": {
            "startup": false,
            "wait_interval": 0
          },
          "base_uri": "https://localhost:8080/",
          "height": 187
        },
        "outputId": "e8472880-b042-4ccd-d720-ec07188f3700",
        "executionInfo": {
          "status": "ok",
          "timestamp": 1533508359156,
          "user_tz": 240,
          "elapsed": 649,
          "user": {
            "displayName": "Roberto Ibañez",
            "photoUrl": "//lh4.googleusercontent.com/-ddIYrrtNbsk/AAAAAAAAAAI/AAAAAAAABrY/AWZd3obyJCA/s50-c-k-no/photo.jpg",
            "userId": "104879888659584525223"
          }
        }
      },
      "cell_type": "code",
      "source": [
        "dtrain_set[-1][0]"
      ],
      "execution_count": 33,
      "outputs": [
        {
          "output_type": "execute_result",
          "data": {
            "text/plain": [
              "tensor([[1., 0.],\n",
              "        [1., 0.],\n",
              "        [0., 1.],\n",
              "        [0., 0.],\n",
              "        [0., 0.],\n",
              "        [0., 0.],\n",
              "        [0., 0.],\n",
              "        [0., 0.],\n",
              "        [0., 0.],\n",
              "        [0., 0.]])"
            ]
          },
          "metadata": {
            "tags": []
          },
          "execution_count": 33
        }
      ]
    },
    {
      "metadata": {
        "id": "I9cRP3Wzb-8M",
        "colab_type": "code",
        "colab": {
          "autoexec": {
            "startup": false,
            "wait_interval": 0
          }
        }
      },
      "cell_type": "code",
      "source": [
        "import torch.nn as nn\n",
        "import torch.nn.functional as F\n",
        "import torch\n",
        "from torch.autograd import Variable\n",
        "\n",
        "\n",
        "class RNNClassifier(nn.Module):\n",
        "\n",
        "    def __init__(self, vocab_size, hidden_dim, num_layers, label_size, batch_size, use_gpu, kind_rnn):\n",
        "        super(RNNClassifier, self).__init__()\n",
        "        self.hidden_dim = hidden_dim\n",
        "        self.batch_size = batch_size\n",
        "        self.use_gpu = use_gpu\n",
        "        self.kind_rnn = kind_rnn\n",
        "        self.num_layers = num_layers\n",
        "\n",
        "        if kind_rnn == \"gru\":\n",
        "          self.rnn = nn.GRU(input_size=vocab_size,\n",
        "                            hidden_size=hidden_dim,\n",
        "                            num_layers=num_layers\n",
        "                            )\n",
        "        elif kind_rnn == \"lstm\":\n",
        "          self.rnn = nn.LSTM(input_size=vocab_size,\n",
        "                             hidden_size=hidden_dim,\n",
        "                             num_layers=num_layers\n",
        "                             )\n",
        "        else:\n",
        "          raise NotImplementedError\n",
        "\n",
        "        self.hidden2label = nn.Linear(hidden_dim, label_size)\n",
        "        \n",
        "        self.hidden = self.init_hidden()\n",
        "        \n",
        "        #self.softmax = nn.Softmax(dim=1)\n",
        "\n",
        "    def init_hidden(self):\n",
        "      \n",
        "        if self.kind_rnn == \"gru\":\n",
        "          if self.use_gpu:\n",
        "            return Variable(torch.zeros(self.num_layers, self.batch_size, self.hidden_dim).cuda())\n",
        "          else:\n",
        "            return Variable(torch.zeros(self.num_layers, self.batch_size, self.hidden_dim))\n",
        "          \n",
        "        elif self.kind_rnn == \"lstm\":\n",
        "          if self.use_gpu:\n",
        "              h0 = Variable(torch.zeros(self.num_layers, self.batch_size, self.hidden_dim).cuda())\n",
        "              c0 = Variable(torch.zeros(self.num_layers, self.batch_size, self.hidden_dim).cuda())\n",
        "          else:\n",
        "              h0 = Variable(torch.zeros(self.num_layers, self.batch_size, self.hidden_dim))\n",
        "              c0 = Variable(torch.zeros(self.num_layers, self.batch_size, self.hidden_dim))\n",
        "          return (h0, c0)\n",
        "        else:\n",
        "          raise NotImplementedError\n",
        "\n",
        "    def forward(self, x):\n",
        "        # RNN recibe (BATCH_SIZE, NUM_EXAMPLES, HIDDEN_DIM)\n",
        "        x = torch.transpose(x, 0, 1)\n",
        "        output, self.hidden = self.rnn(x, self.hidden)\n",
        "        y  = self.hidden2label(output[-1])\n",
        "        return y #self.softmax(y)"
      ],
      "execution_count": 0,
      "outputs": []
    },
    {
      "metadata": {
        "id": "2w4JozLghufV",
        "colab_type": "code",
        "colab": {
          "autoexec": {
            "startup": false,
            "wait_interval": 0
          },
          "base_uri": "https://localhost:8080/",
          "height": 85
        },
        "outputId": "de6e4f08-7463-4ee0-ad54-88a04d4d39d9",
        "executionInfo": {
          "status": "ok",
          "timestamp": 1533508364826,
          "user_tz": 240,
          "elapsed": 858,
          "user": {
            "displayName": "Roberto Ibañez",
            "photoUrl": "//lh4.googleusercontent.com/-ddIYrrtNbsk/AAAAAAAAAAI/AAAAAAAABrY/AWZd3obyJCA/s50-c-k-no/photo.jpg",
            "userId": "104879888659584525223"
          }
        }
      },
      "cell_type": "code",
      "source": [
        "## TESTING RNNClassifier\n",
        "vocab_size = 10\n",
        "batch_size = 3\n",
        "num_examples = 5\n",
        "\n",
        "## TESTING GRU\n",
        "\n",
        "model = RNNClassifier(vocab_size=vocab_size, \n",
        "                      hidden_dim=20, \n",
        "                      num_layers=2, \n",
        "                      label_size=10, \n",
        "                      batch_size=batch_size, \n",
        "                      use_gpu=torch.cuda.is_available(), \n",
        "                      kind_rnn=\"gru\")\n",
        "model.cuda()\n",
        "\n",
        "sentence1 = torch.randn(batch_size, num_examples, vocab_size).cuda()\n",
        "out1 = model(sentence1)\n",
        "\n",
        "print(\"OUTPUT GRU = \", out1[-1])\n",
        "\n",
        "## TESTING LSTM\n",
        "model = RNNClassifier(vocab_size=vocab_size, \n",
        "                      hidden_dim=20, \n",
        "                      num_layers=2, \n",
        "                      label_size=2, \n",
        "                      batch_size=batch_size, \n",
        "                      use_gpu=torch.cuda.is_available(), \n",
        "                      kind_rnn=\"lstm\")\n",
        "model.cuda()\n",
        "\n",
        "sentence2 = torch.randn(batch_size, num_examples, vocab_size).cuda()\n",
        "out2 = model(sentence1)\n",
        "\n",
        "print(\"OUTPUT LSTM = \", out2[-1])\n",
        "\n",
        "print(\"OUTPUT GRU 2 = \", model(sentence2)[-1])"
      ],
      "execution_count": 35,
      "outputs": [
        {
          "output_type": "stream",
          "text": [
            "OUTPUT GRU =  tensor([-0.1865,  0.3126,  0.0520, -0.1197, -0.1256, -0.3091,  0.0889, -0.0069,\n",
            "        -0.1137, -0.1839], device='cuda:0', grad_fn=<SelectBackward>)\n",
            "OUTPUT LSTM =  tensor([-0.1466, -0.1369], device='cuda:0', grad_fn=<SelectBackward>)\n",
            "OUTPUT GRU 2 =  tensor([-0.1561, -0.0968], device='cuda:0', grad_fn=<SelectBackward>)\n"
          ],
          "name": "stdout"
        }
      ]
    },
    {
      "metadata": {
        "id": "KxLT7u9xx06N",
        "colab_type": "code",
        "colab": {
          "autoexec": {
            "startup": false,
            "wait_interval": 0
          }
        }
      },
      "cell_type": "code",
      "source": [
        "# CREO LOS DATA LOADERS\n",
        "\n",
        "from torch.utils.data import DataLoader\n",
        "\n",
        "batch_size = 5\n",
        "\n",
        "train_loader = DataLoader(dtrain_set,\n",
        "                          batch_size=batch_size,\n",
        "                          shuffle=True,\n",
        "                          num_workers=4\n",
        "                          )\n",
        "\n",
        "val_loader = DataLoader(dval_set,\n",
        "                         batch_size=batch_size,\n",
        "                         shuffle=False,\n",
        "                         num_workers=4\n",
        "                         )"
      ],
      "execution_count": 0,
      "outputs": []
    },
    {
      "metadata": {
        "id": "i_UEzZ7x3sgo",
        "colab_type": "code",
        "colab": {
          "autoexec": {
            "startup": false,
            "wait_interval": 0
          }
        }
      },
      "cell_type": "code",
      "source": [
        ""
      ],
      "execution_count": 0,
      "outputs": []
    },
    {
      "metadata": {
        "id": "llgMAZB_w16V",
        "colab_type": "code",
        "colab": {
          "autoexec": {
            "startup": false,
            "wait_interval": 0
          }
        }
      },
      "cell_type": "code",
      "source": [
        "def adjust_learning_rate(optimizer, epoch):\n",
        "    lr = learning_rate * (0.1 ** (epoch // 10))\n",
        "    for param_group in optimizer.param_groups:\n",
        "        param_group['lr'] = lr\n",
        "    return optimizer"
      ],
      "execution_count": 0,
      "outputs": []
    },
    {
      "metadata": {
        "id": "mIjCtbWZ4P5Y",
        "colab_type": "code",
        "colab": {
          "autoexec": {
            "startup": false,
            "wait_interval": 0
          },
          "base_uri": "https://localhost:8080/",
          "height": 527
        },
        "outputId": "5a61a7ac-5301-48b9-b874-2b23e0874a16",
        "executionInfo": {
          "status": "ok",
          "timestamp": 1533508470936,
          "user_tz": 240,
          "elapsed": 91644,
          "user": {
            "displayName": "Roberto Ibañez",
            "photoUrl": "//lh4.googleusercontent.com/-ddIYrrtNbsk/AAAAAAAAAAI/AAAAAAAABrY/AWZd3obyJCA/s50-c-k-no/photo.jpg",
            "userId": "104879888659584525223"
          }
        }
      },
      "cell_type": "code",
      "source": [
        "## TRAIN MODEL \n",
        "import torch.nn as nn\n",
        "import torch.optim as optim\n",
        "\n",
        "train_loss_ = []\n",
        "val_loss_   = []\n",
        "train_acc_  = []\n",
        "val_acc_    = []\n",
        "\n",
        "epochs = 30\n",
        "\n",
        "use_gpu = torch.cuda.is_available()\n",
        "\n",
        "vocab_size = 2\n",
        "hidden_dim = 200\n",
        "num_layers = 1\n",
        "label_size = 11 # CANTIDAD DE 1s posible [0, 1, ..., max_len]\n",
        "batch_size = batch_size\n",
        "\n",
        "learning_rate = 0.01\n",
        "\n",
        "\n",
        "## USO UNA GRU\n",
        "model = RNNClassifier(vocab_size=vocab_size, \n",
        "                      hidden_dim=hidden_dim, \n",
        "                      num_layers=num_layers, \n",
        "                      label_size=label_size, \n",
        "                      batch_size=batch_size, \n",
        "                      use_gpu=use_gpu, \n",
        "                      kind_rnn=\"gru\") \n",
        "\n",
        "\n",
        "optimizer = optim.SGD(model.parameters(), lr=learning_rate)\n",
        "loss_function = nn.CrossEntropyLoss()\n",
        "\n",
        "if use_gpu:\n",
        "  model.cuda()\n",
        "### training procedure\n",
        "\n",
        "for epoch in range(epochs):\n",
        "    ## training epoch\n",
        "    total_acc = 0.0\n",
        "    total_loss = 0.0\n",
        "    total = 0.0\n",
        "    \n",
        "    optimizer = adjust_learning_rate(optimizer, epoch)\n",
        "    \n",
        "    for idx, traindata in enumerate(train_loader):\n",
        "        train_inputs, train_labels = traindata\n",
        "        train_labels = torch.squeeze(train_labels)\n",
        "        \n",
        "        #print(train_inputs.shape)\n",
        "\n",
        "        if use_gpu:\n",
        "          train_inputs, train_labels = Variable(train_inputs.cuda()), train_labels.cuda()\n",
        "        else: \n",
        "          train_inputs = Variable(train_inputs)\n",
        "\n",
        "        model.zero_grad()\n",
        "        model.batch_size = len(train_labels)\n",
        "        model.hidden = model.init_hidden()\n",
        "        output = model(train_inputs) # TODO: LA TRANSPOSICION ESTA EN EL FORWARD (QUIZAS SE DEBA SACAR)\n",
        "        \n",
        "        loss = loss_function(output, Variable(train_labels))\n",
        "        loss.backward()\n",
        "        optimizer.step()\n",
        "\n",
        "        # calc training acc\n",
        "        _, predicted = torch.max(output.data, 1)\n",
        "        \n",
        "        #print(\"PRED\", predicted)\n",
        "        #print(\"TRUE\", train_labels)\n",
        "        \n",
        "        total_acc += (predicted == train_labels).sum().item()\n",
        "        \n",
        "        total += len(train_labels)\n",
        "        \n",
        "        #print(\"ACC\", total_acc)\n",
        "        #print(\"TOTAL\", total)\n",
        "        \n",
        "        total_loss += loss.item()\n",
        "    \n",
        "    train_loss_.append(total_loss * 1.0 / total)\n",
        "    train_acc_.append(total_acc * 1.0 / total)\n",
        "    \n",
        "    \n",
        "    ## val epoch\n",
        "    total_acc = 0.0\n",
        "    total_loss = 0.0\n",
        "    total = 0.0\n",
        "    for idx, valdata in enumerate(val_loader):\n",
        "        val_inputs, val_labels = valdata\n",
        "        val_labels = torch.squeeze(val_labels)\n",
        "\n",
        "        if use_gpu:\n",
        "          val_inputs, val_labels = Variable(val_inputs.cuda()), val_labels.cuda()\n",
        "        else: \n",
        "          val_inputs = Variable(val_inputs)\n",
        "\n",
        "        model.batch_size = len(val_labels)\n",
        "        model.hidden = model.init_hidden()\n",
        "        output = model(val_inputs) # TODO: LA TRANSPOSICION ESTA EN EL FORWARD (QUIZAS SE DEBA SACAR)\n",
        "\n",
        "        loss = loss_function(output, Variable(val_labels))\n",
        "\n",
        "        # calc val acc\n",
        "        _, predicted = torch.max(output.data, 1)\n",
        "        \n",
        "        \n",
        "        total_acc += (predicted == val_labels).sum().item()\n",
        "        total += len(val_labels)\n",
        "        total_loss += loss.item()\n",
        "    val_loss_.append(total_loss * 1.0  / total)\n",
        "    val_acc_.append(total_acc * 1.0 / total)\n",
        "\n",
        "    print('[Epoch: %3d/%3d] Training Loss: %.3f, Val Loss: %.3f, Training Acc: %.3f, Val Acc: %.3f'\n",
        "          % (epoch, epochs, train_loss_[epoch], val_loss_[epoch], train_acc_[epoch], val_acc_[epoch]))\n"
      ],
      "execution_count": 39,
      "outputs": [
        {
          "output_type": "stream",
          "text": [
            "[Epoch:   0/ 30] Training Loss: 0.440, Val Loss: 0.407, Training Acc: 0.222, Val Acc: 0.230\n",
            "[Epoch:   1/ 30] Training Loss: 0.395, Val Loss: 0.384, Training Acc: 0.233, Val Acc: 0.230\n",
            "[Epoch:   2/ 30] Training Loss: 0.384, Val Loss: 0.378, Training Acc: 0.240, Val Acc: 0.265\n",
            "[Epoch:   3/ 30] Training Loss: 0.379, Val Loss: 0.374, Training Acc: 0.238, Val Acc: 0.314\n",
            "[Epoch:   4/ 30] Training Loss: 0.374, Val Loss: 0.368, Training Acc: 0.252, Val Acc: 0.270\n",
            "[Epoch:   5/ 30] Training Loss: 0.365, Val Loss: 0.357, Training Acc: 0.281, Val Acc: 0.289\n",
            "[Epoch:   6/ 30] Training Loss: 0.347, Val Loss: 0.327, Training Acc: 0.325, Val Acc: 0.343\n",
            "[Epoch:   7/ 30] Training Loss: 0.293, Val Loss: 0.269, Training Acc: 0.523, Val Acc: 0.525\n",
            "[Epoch:   8/ 30] Training Loss: 0.252, Val Loss: 0.245, Training Acc: 0.550, Val Acc: 0.547\n",
            "[Epoch:   9/ 30] Training Loss: 0.231, Val Loss: 0.226, Training Acc: 0.592, Val Acc: 0.627\n",
            "[Epoch:  10/ 30] Training Loss: 0.218, Val Loss: 0.221, Training Acc: 0.646, Val Acc: 0.642\n",
            "[Epoch:  11/ 30] Training Loss: 0.215, Val Loss: 0.219, Training Acc: 0.650, Val Acc: 0.650\n",
            "[Epoch:  12/ 30] Training Loss: 0.213, Val Loss: 0.216, Training Acc: 0.658, Val Acc: 0.654\n",
            "[Epoch:  13/ 30] Training Loss: 0.212, Val Loss: 0.215, Training Acc: 0.665, Val Acc: 0.657\n",
            "[Epoch:  14/ 30] Training Loss: 0.209, Val Loss: 0.212, Training Acc: 0.670, Val Acc: 0.667\n",
            "[Epoch:  15/ 30] Training Loss: 0.207, Val Loss: 0.210, Training Acc: 0.684, Val Acc: 0.672\n",
            "[Epoch:  16/ 30] Training Loss: 0.205, Val Loss: 0.208, Training Acc: 0.683, Val Acc: 0.684\n",
            "[Epoch:  17/ 30] Training Loss: 0.203, Val Loss: 0.206, Training Acc: 0.692, Val Acc: 0.686\n",
            "[Epoch:  18/ 30] Training Loss: 0.201, Val Loss: 0.204, Training Acc: 0.702, Val Acc: 0.686\n",
            "[Epoch:  19/ 30] Training Loss: 0.199, Val Loss: 0.203, Training Acc: 0.701, Val Acc: 0.699\n",
            "[Epoch:  20/ 30] Training Loss: 0.199, Val Loss: 0.202, Training Acc: 0.715, Val Acc: 0.696\n",
            "[Epoch:  21/ 30] Training Loss: 0.198, Val Loss: 0.202, Training Acc: 0.715, Val Acc: 0.696\n",
            "[Epoch:  22/ 30] Training Loss: 0.197, Val Loss: 0.202, Training Acc: 0.718, Val Acc: 0.696\n",
            "[Epoch:  23/ 30] Training Loss: 0.197, Val Loss: 0.201, Training Acc: 0.716, Val Acc: 0.696\n",
            "[Epoch:  24/ 30] Training Loss: 0.197, Val Loss: 0.201, Training Acc: 0.718, Val Acc: 0.696\n",
            "[Epoch:  25/ 30] Training Loss: 0.197, Val Loss: 0.201, Training Acc: 0.718, Val Acc: 0.696\n",
            "[Epoch:  26/ 30] Training Loss: 0.197, Val Loss: 0.201, Training Acc: 0.719, Val Acc: 0.696\n",
            "[Epoch:  27/ 30] Training Loss: 0.196, Val Loss: 0.201, Training Acc: 0.717, Val Acc: 0.691\n",
            "[Epoch:  28/ 30] Training Loss: 0.196, Val Loss: 0.200, Training Acc: 0.717, Val Acc: 0.699\n",
            "[Epoch:  29/ 30] Training Loss: 0.196, Val Loss: 0.200, Training Acc: 0.720, Val Acc: 0.694\n"
          ],
          "name": "stdout"
        }
      ]
    },
    {
      "metadata": {
        "id": "yaj99qBE5vzF",
        "colab_type": "code",
        "colab": {
          "autoexec": {
            "startup": false,
            "wait_interval": 0
          },
          "base_uri": "https://localhost:8080/",
          "height": 282
        },
        "outputId": "28bdc4b5-aca4-43bd-b5ab-5ff94cefb357",
        "executionInfo": {
          "status": "ok",
          "timestamp": 1533508490005,
          "user_tz": 240,
          "elapsed": 3843,
          "user": {
            "displayName": "Roberto Ibañez",
            "photoUrl": "//lh4.googleusercontent.com/-ddIYrrtNbsk/AAAAAAAAAAI/AAAAAAAABrY/AWZd3obyJCA/s50-c-k-no/photo.jpg",
            "userId": "104879888659584525223"
          }
        }
      },
      "cell_type": "code",
      "source": [
        "%matplotlib inline\n",
        "\n",
        "import matplotlib\n",
        "import numpy as np\n",
        "import matplotlib.pyplot as plt\n",
        "\n",
        "\n",
        "plt.plot(range(0, epochs), train_loss_, c='b')\n",
        "plt.plot(range(0, epochs), val_loss_, c='r')\n",
        "plt.plot(range(0, epochs), train_acc_, c='g')\n",
        "plt.plot(range(0, epochs), val_acc_, c='y')\n",
        "plt.legend([\"train loss\", \"val loss\", \"train acc\", \"val acc\"])"
      ],
      "execution_count": 40,
      "outputs": [
        {
          "output_type": "execute_result",
          "data": {
            "text/plain": [
              "<matplotlib.legend.Legend at 0x7f9f8a5ecd68>"
            ]
          },
          "metadata": {
            "tags": []
          },
          "execution_count": 40
        },
        {
          "output_type": "display_data",
          "data": {
            "image/png": "[encoded data removed]",
            "text/plain": [
              "<matplotlib.figure.Figure at 0x7f9fc842fef0>"
            ]
          },
          "metadata": {
            "tags": []
          }
        }
      ]
    },
    {
      "metadata": {
        "id": "Two0W1loGgeK",
        "colab_type": "code",
        "colab": {
          "autoexec": {
            "startup": false,
            "wait_interval": 0
          }
        }
      },
      "cell_type": "code",
      "source": [
        ""
      ],
      "execution_count": 0,
      "outputs": []
    }
  ]
}